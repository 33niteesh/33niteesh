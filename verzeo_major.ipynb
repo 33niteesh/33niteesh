{
  "nbformat": 4,
  "nbformat_minor": 0,
  "metadata": {
    "colab": {
      "name": "verzeo_major.ipynb",
      "private_outputs": true,
      "provenance": [],
      "collapsed_sections": [],
      "mount_file_id": "10h2lXqseW8NfpAKDu5Rl0-C9l8TEkCcE",
      "authorship_tag": "ABX9TyPwLaVIfX5tCkdrSCpgDJ9M",
      "include_colab_link": true
    },
    "kernelspec": {
      "name": "python3",
      "display_name": "Python 3"
    },
    "language_info": {
      "name": "python"
    }
  },
  "cells": [
    {
      "cell_type": "markdown",
      "metadata": {
        "id": "view-in-github",
        "colab_type": "text"
      },
      "source": [
        "<a href=\"https://colab.research.google.com/github/33niteesh/33niteesh/blob/main/verzeo_major.ipynb\" target=\"_parent\"><img src=\"https://colab.research.google.com/assets/colab-badge.svg\" alt=\"Open In Colab\"/></a>"
      ]
    },
    {
      "cell_type": "code",
      "metadata": {
        "id": "VZvVERgrAXxI"
      },
      "source": [
        "import numpy as np\n",
        "import pandas as pd\n",
        "dataset = pd.read_excel('./review.xlsx')\n",
        "dataset.head()\n",
        "import re\n",
        "import nltk\n",
        "nltk.download('stopwords')\n",
        "from nltk.corpus import stopwords\n",
        "from nltk.stem.porter import PorterStemmer\n",
        "ps = PorterStemmer()\n",
        "all_stopwords = stopwords.words('english')\n",
        "all_stopwords.remove('not')\n",
        "corpus=[]\n",
        "for i in range(0, 100):\n",
        "  review = re.sub('[^a-zA-Z]', ' ', dataset['Review'][i])\n",
        "  review = review.lower()\n",
        "  review = review.split()\n",
        "  review = [ps.stem(word) for word in review if not word in set(all_stopwords)]\n",
        "  review = ' '.join(review)\n",
        "  corpus.append(review)\n",
        "from sklearn.feature_extraction.text import CountVectorizer\n",
        "import pickle\n",
        "cvFile='./c1_BoW_Sentiment_Model.pkl'\n",
        "cv = pickle.load(open(cvFile, \"rb\"))\n",
        "X_fresh = cv.transform(corpus).toarray()\n",
        "X_fresh.shape\n",
        "import joblib\n",
        "classifier = joblib.load('./c2_Classifier_Sentiment_Model')\n",
        "y_pred = classifier.predict(X_fresh)\n",
        "for i in range(len(y_pred)):\n",
        "    if y_pred[i]==0:\n",
        "        print(\"Negetive ,0\")\n",
        "    else:\n",
        "        print(\"Positive ,1\")"
      ],
      "execution_count": null,
      "outputs": []
    },
    {
      "cell_type": "markdown",
      "metadata": {
        "id": "CawF1fxXSsZN"
      },
      "source": [
        "#needed files\n",
        "\n"
      ]
    },
    {
      "cell_type": "markdown",
      "metadata": {
        "id": "fz8iQWJITNiR"
      },
      "source": [
        "c2_Classifier_Sentiment_Model: https://drive.google.com/file/d/1ZXdwJvitqZ8aztaBZYdWGfM8ckjYV_wJ/view?usp=sharing"
      ]
    },
    {
      "cell_type": "markdown",
      "metadata": {
        "id": "d3xCkOcSTY6D"
      },
      "source": [
        "review.xlsx:https://docs.google.com/spreadsheets/d/1Co9kiX-qJOHdIonVNVkKmOhlo6jOW2f9/edit?usp=sharing&ouid=109922844797463448701&rtpof=true&sd=true"
      ]
    },
    {
      "cell_type": "markdown",
      "metadata": {
        "id": "zQf_bp9iS7G-"
      },
      "source": [
        "c1_BoW_Sentiment_Model.pkl:https://drive.google.com/file/d/1i9q9HYBiRpHZncBaTLKJJ4Etz_TZcuYS/view?usp=sharing\n"
      ]
    }
  ]
}